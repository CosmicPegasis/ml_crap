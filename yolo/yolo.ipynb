{
 "cells": [
  {
   "cell_type": "markdown",
   "metadata": {},
   "source": [
    "# My Experiments with YOLO"
   ]
  },
  {
   "cell_type": "code",
   "execution_count": 1,
   "metadata": {},
   "outputs": [
    {
     "name": "stderr",
     "output_type": "stream",
     "text": [
      "/home/cosmic/coding/ml/.venv/lib/python3.12/site-packages/tqdm/auto.py:21: TqdmWarning: IProgress not found. Please update jupyter and ipywidgets. See https://ipywidgets.readthedocs.io/en/stable/user_install.html\n",
      "  from .autonotebook import tqdm as notebook_tqdm\n"
     ]
    }
   ],
   "source": [
    "from ultralytics import YOLOv10\n",
    "\n",
    "model = YOLOv10.from_pretrained('jameslahm/yolov10n')\n"
   ]
  },
  {
   "cell_type": "code",
   "execution_count": 2,
   "metadata": {},
   "outputs": [
    {
     "name": "stdout",
     "output_type": "stream",
     "text": [
      "\n",
      "Found http://images.cocodataset.org/val2017/000000039769.jpg locally at 000000039769.jpg\n",
      "image 1/1 /home/cosmic/coding/ml/yolo/000000039769.jpg: 480x640 2 cats, 1 couch, 2 remotes, 104.3ms\n",
      "Speed: 1.5ms preprocess, 104.3ms inference, 1.5ms postprocess per image at shape (1, 3, 480, 640)\n",
      "Results saved to \u001b[1mruns/detect/predict2\u001b[0m\n"
     ]
    },
    {
     "data": {
      "text/plain": [
       "[ultralytics.engine.results.Results object with attributes:\n",
       " \n",
       " boxes: ultralytics.engine.results.Boxes object\n",
       " keypoints: None\n",
       " masks: None\n",
       " names: {0: 'person', 1: 'bicycle', 2: 'car', 3: 'motorcycle', 4: 'airplane', 5: 'bus', 6: 'train', 7: 'truck', 8: 'boat', 9: 'traffic light', 10: 'fire hydrant', 11: 'stop sign', 12: 'parking meter', 13: 'bench', 14: 'bird', 15: 'cat', 16: 'dog', 17: 'horse', 18: 'sheep', 19: 'cow', 20: 'elephant', 21: 'bear', 22: 'zebra', 23: 'giraffe', 24: 'backpack', 25: 'umbrella', 26: 'handbag', 27: 'tie', 28: 'suitcase', 29: 'frisbee', 30: 'skis', 31: 'snowboard', 32: 'sports ball', 33: 'kite', 34: 'baseball bat', 35: 'baseball glove', 36: 'skateboard', 37: 'surfboard', 38: 'tennis racket', 39: 'bottle', 40: 'wine glass', 41: 'cup', 42: 'fork', 43: 'knife', 44: 'spoon', 45: 'bowl', 46: 'banana', 47: 'apple', 48: 'sandwich', 49: 'orange', 50: 'broccoli', 51: 'carrot', 52: 'hot dog', 53: 'pizza', 54: 'donut', 55: 'cake', 56: 'chair', 57: 'couch', 58: 'potted plant', 59: 'bed', 60: 'dining table', 61: 'toilet', 62: 'tv', 63: 'laptop', 64: 'mouse', 65: 'remote', 66: 'keyboard', 67: 'cell phone', 68: 'microwave', 69: 'oven', 70: 'toaster', 71: 'sink', 72: 'refrigerator', 73: 'book', 74: 'clock', 75: 'vase', 76: 'scissors', 77: 'teddy bear', 78: 'hair drier', 79: 'toothbrush'}\n",
       " obb: None\n",
       " orig_img: array([[[ 56,  25, 140],\n",
       "         [ 67,  25, 144],\n",
       "         [ 73,  24, 146],\n",
       "         ...,\n",
       "         [ 38,  16,  94],\n",
       "         [ 39,  13, 107],\n",
       "         [ 33,  10, 102]],\n",
       " \n",
       "        [[ 57,  22, 138],\n",
       "         [ 49,  26, 142],\n",
       "         [ 48,  20, 139],\n",
       "         ...,\n",
       "         [ 36,  11, 103],\n",
       "         [ 42,  17, 115],\n",
       "         [ 31,  13,  96]],\n",
       " \n",
       "        [[ 42,  22, 135],\n",
       "         [ 59,  33, 150],\n",
       "         [ 53,  23, 142],\n",
       "         ...,\n",
       "         [ 32,   8, 103],\n",
       "         [ 39,  19, 108],\n",
       "         [ 26,  10,  93]],\n",
       " \n",
       "        ...,\n",
       " \n",
       "        [[190, 100, 237],\n",
       "         [196,  84, 225],\n",
       "         [203,  96, 236],\n",
       "         ...,\n",
       "         [131,  47, 171],\n",
       "         [144,  62, 181],\n",
       "         [110,  28, 147]],\n",
       " \n",
       "        [[221,  84, 230],\n",
       "         [213,  80, 226],\n",
       "         [202,  99, 238],\n",
       "         ...,\n",
       "         [ 62,  24, 114],\n",
       "         [ 46,   5, 103],\n",
       "         [ 44,   9,  89]],\n",
       " \n",
       "        [[175, 100, 238],\n",
       "         [191, 109, 246],\n",
       "         [214,  96, 238],\n",
       "         ...,\n",
       "         [ 29,  13,  74],\n",
       "         [ 44,  25,  74],\n",
       "         [ 42,  17,  73]]], dtype=uint8)\n",
       " orig_shape: (480, 640)\n",
       " path: '/home/cosmic/coding/ml/yolo/000000039769.jpg'\n",
       " probs: None\n",
       " save_dir: 'runs/detect/predict2'\n",
       " speed: {'preprocess': 1.4781951904296875, 'inference': 104.27546501159668, 'postprocess': 1.4750957489013672}]"
      ]
     },
     "execution_count": 2,
     "metadata": {},
     "output_type": "execute_result"
    }
   ],
   "source": [
    "source = 'http://images.cocodataset.org/val2017/000000039769.jpg'\n",
    "model.predict(source=source, save=True)"
   ]
  },
  {
   "cell_type": "code",
   "execution_count": null,
   "metadata": {},
   "outputs": [],
   "source": []
  }
 ],
 "metadata": {
  "kernelspec": {
   "display_name": ".venv",
   "language": "python",
   "name": "python3"
  },
  "language_info": {
   "codemirror_mode": {
    "name": "ipython",
    "version": 3
   },
   "file_extension": ".py",
   "mimetype": "text/x-python",
   "name": "python",
   "nbconvert_exporter": "python",
   "pygments_lexer": "ipython3",
   "version": "3.12.3"
  }
 },
 "nbformat": 4,
 "nbformat_minor": 2
}
